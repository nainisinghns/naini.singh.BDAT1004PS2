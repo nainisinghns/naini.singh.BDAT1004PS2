{
 "cells": [
  {
   "cell_type": "markdown",
   "id": "4364413e",
   "metadata": {},
   "source": [
    "The program begins by initializing a global variable a to 0.\n",
    "\n",
    "a) First Call to b():\n",
    "\n",
    "The function b() is executed.\n",
    "\n",
    "Inside b() the global variable a is updated using the function   c(a).\n",
    "\n",
    "The current value of a is 0 so c(0) is called\n",
    "\n",
    "The function c() calculates 0 + 2 and it returns 2.\n",
    "\n",
    "The returned value 2 is assigned back to the global variable a.\n",
    "\n",
    "After this step a = 2.\n",
    "\n",
    "\n",
    "Second Call to b():\n",
    "\n",
    "The function b() is executed again\n",
    "\n",
    "Inside b() the global variable a is updated using c(a).\n",
    "\n",
    "The current value of a is 2 so c(2) is called.\n",
    "\n",
    "The function c() calculates 2 + 2 and returns 4.\n",
    "\n",
    "The returned value 4 is assigned back to the globall variable a.\n",
    "\n",
    "After this step a = 4.\n",
    "\n",
    "\n",
    "Third Call to b():\n",
    "\n",
    "The function b() is executed for the third time.\n",
    "\n",
    "Inside b() the global variable a is updated using c(a).\n",
    "\n",
    "The current value of a is 4 so c(4) is called.\n",
    "\n",
    "The function c() calculates 4 + 2 and returns 6.\n",
    "\n",
    "The returned value 6 is assigned back to the global variable a.\n",
    "\n",
    "After this step a = 6.\n",
    "\n",
    "\n",
    "Final Step:\n",
    "\n",
    "The statement print(a) is executedwhich outputs the value of the global variable a.\n",
    "\n",
    "Since a has been incremented three times the final value is 6.\n",
    "\n",
    "Hence, The Final Output is:\n",
    "\n",
    "6\n"
   ]
  },
  {
   "cell_type": "code",
   "execution_count": 7,
   "id": "e16ec11b",
   "metadata": {},
   "outputs": [
    {
     "name": "stdout",
     "output_type": "stream",
     "text": [
      "6\n"
     ]
    }
   ],
   "source": [
    "#PythonModule\n",
    "a = 0 #Global Variable initializd to 0\n",
    "def b(): #Function b is defined that can update global variable a\n",
    "    global a #Here 'a' is declared as a global variable for further update\n",
    "    a = c(a) #Function 'c' is called with current value of 'a' and assigns result back to 'a'\n",
    "    \n",
    "def c(a): #Define the function 'c' that takes the parameter and returns with +2 increment\n",
    "    return a + 2 #Increments input 'a' by +2\n",
    "\n",
    "#Execute\n",
    "#First call to b()\n",
    "b()\n",
    "#Second call to b()\n",
    "b()\n",
    "#Third call to b()\n",
    "b()\n",
    "print(a) #Displays the output here"
   ]
  },
  {
   "cell_type": "code",
   "execution_count": null,
   "id": "b1281613",
   "metadata": {},
   "outputs": [],
   "source": []
  }
 ],
 "metadata": {
  "kernelspec": {
   "display_name": "Python 3 (ipykernel)",
   "language": "python",
   "name": "python3"
  },
  "language_info": {
   "codemirror_mode": {
    "name": "ipython",
    "version": 3
   },
   "file_extension": ".py",
   "mimetype": "text/x-python",
   "name": "python",
   "nbconvert_exporter": "python",
   "pygments_lexer": "ipython3",
   "version": "3.9.16"
  }
 },
 "nbformat": 4,
 "nbformat_minor": 5
}
