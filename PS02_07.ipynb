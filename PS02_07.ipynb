{
 "cells": [
  {
   "cell_type": "code",
   "execution_count": 7,
   "id": "c1b82db0",
   "metadata": {},
   "outputs": [
    {
     "name": "stdout",
     "output_type": "stream",
     "text": [
      "http://reed.cs.depaul.edu/lperkovic/csc242/test1.html\n"
     ]
    }
   ],
   "source": [
    "import requests\n",
    "from bs4 import BeautifulSoup\n",
    "\n",
    "def webdir(url, depth, indent):\n",
    "    if depth < 0:  # Base case: stop if depth is negative\n",
    "        return\n",
    "    \n",
    "    print(' ' * indent + url)  # Print the URL with proper indentation\n",
    "    try:\n",
    "        # Fetch and parse the HTML content of the URL\n",
    "        response = requests.get(url)\n",
    "        soup = BeautifulSoup(response.text, 'html.parser')\n",
    "\n",
    "        # Find all hyperlinks on the page\n",
    "        links = [a['href'] for a in soup.find_all('a', href=True)]\n",
    "        \n",
    "        # Recurse for each link found\n",
    "        for link in links:\n",
    "            # Only process links that start with 'http' (full URLs)\n",
    "            if link.startswith('http'):\n",
    "                webdir(link, depth - 1, indent + 4)\n",
    "    except Exception as e:\n",
    "        print(' ' * indent + f\"Error: {e}\")\n",
    "\n",
    "# Test case:\n",
    "webdir('http://reed.cs.depaul.edu/lperkovic/csc242/test1.html', 2, 0)\n"
   ]
  },
  {
   "cell_type": "code",
   "execution_count": null,
   "id": "b6ce2930",
   "metadata": {},
   "outputs": [],
   "source": []
  }
 ],
 "metadata": {
  "kernelspec": {
   "display_name": "Python 3 (ipykernel)",
   "language": "python",
   "name": "python3"
  },
  "language_info": {
   "codemirror_mode": {
    "name": "ipython",
    "version": 3
   },
   "file_extension": ".py",
   "mimetype": "text/x-python",
   "name": "python",
   "nbconvert_exporter": "python",
   "pygments_lexer": "ipython3",
   "version": "3.9.16"
  }
 },
 "nbformat": 4,
 "nbformat_minor": 5
}
