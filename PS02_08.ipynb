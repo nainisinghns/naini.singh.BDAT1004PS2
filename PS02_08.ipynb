{
 "cells": [
  {
   "cell_type": "code",
   "execution_count": null,
   "id": "798d026e",
   "metadata": {},
   "outputs": [],
   "source": [
    "#Question 8"
   ]
  },
  {
   "cell_type": "code",
   "execution_count": null,
   "id": "0b51bd3c",
   "metadata": {},
   "outputs": [],
   "source": [
    "#a) All the temperature data:"
   ]
  },
  {
   "cell_type": "code",
   "execution_count": null,
   "id": "d7fa2f97",
   "metadata": {},
   "outputs": [],
   "source": [
    "SELECT Temperature FROM Weather;"
   ]
  },
  {
   "cell_type": "code",
   "execution_count": null,
   "id": "4c7fbfeb",
   "metadata": {},
   "outputs": [],
   "source": [
    "#b) All the cities without repetition:"
   ]
  },
  {
   "cell_type": "code",
   "execution_count": null,
   "id": "19fbde72",
   "metadata": {},
   "outputs": [],
   "source": [
    "SELECT DISTINCT City FROM Weather;"
   ]
  },
  {
   "cell_type": "code",
   "execution_count": null,
   "id": "cc2ca8ef",
   "metadata": {},
   "outputs": [],
   "source": [
    "#c) All the records for India:"
   ]
  },
  {
   "cell_type": "code",
   "execution_count": null,
   "id": "a8e1a495",
   "metadata": {},
   "outputs": [],
   "source": [
    "SELECT * FROM Weather WHERE Country = 'India';"
   ]
  },
  {
   "cell_type": "code",
   "execution_count": null,
   "id": "98f7ec2d",
   "metadata": {},
   "outputs": [],
   "source": [
    "#d) All the Fall records:"
   ]
  },
  {
   "cell_type": "code",
   "execution_count": null,
   "id": "e54ac947",
   "metadata": {},
   "outputs": [],
   "source": [
    "SELECT * FROM Weather WHERE Season = 'Fall';"
   ]
  },
  {
   "cell_type": "code",
   "execution_count": null,
   "id": "8ec89492",
   "metadata": {},
   "outputs": [],
   "source": [
    "#e) City, country, and season where average rainfall is between 200 and 400 mm:"
   ]
  },
  {
   "cell_type": "code",
   "execution_count": null,
   "id": "8058f082",
   "metadata": {},
   "outputs": [],
   "source": [
    "SELECT City, Country, Season \n",
    "FROM Weather \n",
    "WHERE Rainfall BETWEEN 200 AND 400;"
   ]
  },
  {
   "cell_type": "code",
   "execution_count": null,
   "id": "157785e5",
   "metadata": {},
   "outputs": [],
   "source": [
    "#f) City and country for which average Fall temperature is above 20°C, in increasing temperature order:"
   ]
  },
  {
   "cell_type": "code",
   "execution_count": null,
   "id": "1e1624cd",
   "metadata": {},
   "outputs": [],
   "source": [
    "SELECT City, Country \n",
    "FROM Weather \n",
    "WHERE Season = 'Fall' AND Temperature > 20 \n",
    "ORDER BY Temperature ASC;"
   ]
  },
  {
   "cell_type": "code",
   "execution_count": null,
   "id": "588f672c",
   "metadata": {},
   "outputs": [],
   "source": [
    "#g) Total annual rainfall for Cairo:"
   ]
  },
  {
   "cell_type": "code",
   "execution_count": null,
   "id": "6ba49c00",
   "metadata": {},
   "outputs": [],
   "source": [
    "SELECT SUM(Rainfall) AS TotalRainfall \n",
    "FROM Weather \n",
    "WHERE City = 'Cairo';"
   ]
  },
  {
   "cell_type": "code",
   "execution_count": null,
   "id": "4922e797",
   "metadata": {},
   "outputs": [],
   "source": [
    "#h)  Total rainfall for each season:"
   ]
  },
  {
   "cell_type": "code",
   "execution_count": null,
   "id": "d3ebdaea",
   "metadata": {},
   "outputs": [],
   "source": [
    "SELECT Season, SUM(Rainfall) AS TotalRainfall \n",
    "FROM Weather \n",
    "GROUP BY Season;"
   ]
  }
 ],
 "metadata": {
  "kernelspec": {
   "display_name": "Python 3 (ipykernel)",
   "language": "python",
   "name": "python3"
  },
  "language_info": {
   "codemirror_mode": {
    "name": "ipython",
    "version": 3
   },
   "file_extension": ".py",
   "mimetype": "text/x-python",
   "name": "python",
   "nbconvert_exporter": "python",
   "pygments_lexer": "ipython3",
   "version": "3.9.16"
  }
 },
 "nbformat": 4,
 "nbformat_minor": 5
}
